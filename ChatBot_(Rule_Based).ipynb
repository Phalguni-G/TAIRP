{
  "nbformat": 4,
  "nbformat_minor": 0,
  "metadata": {
    "colab": {
      "provenance": [],
      "authorship_tag": "ABX9TyMJjyOd+cDMP8RTw3IUDae+",
      "include_colab_link": true
    },
    "kernelspec": {
      "name": "python3",
      "display_name": "Python 3"
    },
    "language_info": {
      "name": "python"
    }
  },
  "cells": [
    {
      "cell_type": "markdown",
      "metadata": {
        "id": "view-in-github",
        "colab_type": "text"
      },
      "source": [
        "<a href=\"https://colab.research.google.com/github/Phalguni-G/TAIRP/blob/main/ChatBot_(Rule_Based).ipynb\" target=\"_parent\"><img src=\"https://colab.research.google.com/assets/colab-badge.svg\" alt=\"Open In Colab\"/></a>"
      ]
    },
    {
      "cell_type": "code",
      "execution_count": null,
      "metadata": {
        "id": "fFeVxsDgA10y"
      },
      "outputs": [],
      "source": [
        "# ChatBots in action\n",
        "import re # string\n",
        "import random as random"
      ]
    },
    {
      "cell_type": "code",
      "source": [
        "class RuleBot:\n",
        "\n",
        "  negative_responses = ('no', 'nope', 'nah', 'naw', 'not a chance', 'sorry', 'sry', 'not at all', 'try again')\n",
        "  exit_commands = ('quit','pause','exit','done','goodbye','bye','later','stop')\n",
        "  random_questions = ('hi how are u?', 'why are u here?', 'Does earth have a leader', 'are you real','How many are like you?', 'What technology do you have on this planet?','can you help me?','I require asistance')\n",
        "\n",
        "  def __init__(self):\n",
        "    self.alienbabble = {'describe_planet_intent': r'.*\\s*your planet.*',\n",
        "                        'answer_why_intent': r'why\\sare.*',\n",
        "                        'about_intellipaat': r'.*intellipaat.*'}\n",
        "\n",
        "  def greet(self):\n",
        "    self.name = input('What is your name?\\n')\n",
        "    will_help = input(f'Hi {self.name}, I am Rule-Bot. Will you help me learn about your planet?\\n')\n",
        "    if will_help in self.negative_responses:\n",
        "      print(\"Ok, have a nice Earth day!\")\n",
        "      return\n",
        "    self.chat()\n",
        "\n",
        "  def make_exit(self,reply):\n",
        "    if reply in self.exit_commands:\n",
        "      print('Ok, have a nice Earth day!')\n",
        "      return True\n",
        "\n",
        "  def chat(self):\n",
        "    reply = input(random.choice(self.random_questions)).lower()\n",
        "    while not self.make_exit(reply):\n",
        "      reply = input(self.match_reply(reply))\n",
        "\n",
        "  def match_reply(self, reply):\n",
        "    for key, value in self.alienbabble.items():\n",
        "        intent = key\n",
        "        regex_pattern = value\n",
        "        found_match = re.match(regex_pattern, reply)\n",
        "\n",
        "        # Check if a match is found for a specific intent\n",
        "        if found_match and intent == 'describe_planet_intent':\n",
        "            # If a match is found for \"describe_planet_intent,\" return the corresponding response\n",
        "            return self.describe_planet_intent()\n",
        "        elif found_match and intent == 'answer_why_intent':\n",
        "            # If a match is found for \"answer_why_intent,\" return the corresponding response\n",
        "            return self.answer_why_intent()\n",
        "        elif found_match and intent == 'about_intellipaat':\n",
        "            # If a match is found for \"about_intellipaat,\" return the corresponding response\n",
        "            return self.about_intellipaat()\n",
        "        elif not found_match:\n",
        "            # If no match is found for any intent, return a generic response\n",
        "            return self.no_match_intent()\n",
        "\n",
        "\n",
        "  def describe_planet_intent(self):\n",
        "    responses = (\"My planet is a utopia of diverse organisms and species.\\n\",\n",
        "             'I am from Opidipus, the capital of the Wayward Galaxies.\\n')\n",
        "    return random.choice(responses)\n",
        "\n",
        "  def answer_why_intent(self):\n",
        "    responses = (\"I came in peace\\n\", \"I am here to collect data on your planet\\n\", \"I heard coffee is good\\n\")\n",
        "    return random.choice(responses)\n",
        "\n",
        "  def about_intellipaat(self):\n",
        "    responses = (\"Intellipaat is world's largest educational company\\n\", 'Intellipaat will maek you learn all concepts in no time', 'Intellipaat is where your career and skill will grow\\n')\n",
        "    return random.choice(responses)\n",
        "\n",
        "  def no_match_intent(self):\n",
        "    responses = ('Please tell me more.\\n', 'Tell me more!\\n', 'Why do you say that?\\n', 'I see. Can you eloborate\\n','Interesting. Can you tell me more?\\n')\n",
        "    return random.choice(responses)"
      ],
      "metadata": {
        "id": "hjWBw75voLjA"
      },
      "execution_count": null,
      "outputs": []
    },
    {
      "cell_type": "code",
      "source": [
        "AlienBot = RuleBot()\n",
        "AlienBot.greet()"
      ],
      "metadata": {
        "colab": {
          "base_uri": "https://localhost:8080/"
        },
        "id": "ryhQytGRYcQt",
        "outputId": "bb38b118-2434-456e-a929-17df98c918e3"
      },
      "execution_count": null,
      "outputs": [
        {
          "output_type": "stream",
          "name": "stdout",
          "text": [
            "What is your name?\n",
            "quit\n",
            "Hi quit, I am Rule-Bot. Will you help me learn about your planet?\n",
            "quit\n",
            "hi how are u?quit\n",
            "Ok, have a nice Earth day!\n"
          ]
        }
      ]
    }
  ]
}