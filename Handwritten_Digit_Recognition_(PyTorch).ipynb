{
  "nbformat": 4,
  "nbformat_minor": 0,
  "metadata": {
    "colab": {
      "provenance": [],
      "authorship_tag": "ABX9TyM+AYJKT8lvYRvhAjSt8y8+",
      "include_colab_link": true
    },
    "kernelspec": {
      "name": "python3",
      "display_name": "Python 3"
    },
    "language_info": {
      "name": "python"
    }
  },
  "cells": [
    {
      "cell_type": "markdown",
      "metadata": {
        "id": "view-in-github",
        "colab_type": "text"
      },
      "source": [
        "<a href=\"https://colab.research.google.com/github/Phalguni-G/TAIRP/blob/main/Handwritten_Digit_Recognition_(PyTorch).ipynb\" target=\"_parent\"><img src=\"https://colab.research.google.com/assets/colab-badge.svg\" alt=\"Open In Colab\"/></a>"
      ]
    },
    {
      "cell_type": "code",
      "source": [
        "from torchvision import datasets\n",
        "from torchvision.transforms import ToTensor"
      ],
      "metadata": {
        "id": "NGabYvBvm_Yb"
      },
      "execution_count": 7,
      "outputs": []
    },
    {
      "cell_type": "code",
      "source": [
        "train_data = datasets.MNIST(root = 'data', train = True, transform = ToTensor(), download = True )\n",
        "test_data = datasets.MNIST(root = 'data', train = False, transform = ToTensor(), download = True)"
      ],
      "metadata": {
        "id": "zfuRs_mi0M6u"
      },
      "execution_count": 10,
      "outputs": []
    },
    {
      "cell_type": "code",
      "source": [
        "train_data"
      ],
      "metadata": {
        "colab": {
          "base_uri": "https://localhost:8080/"
        },
        "id": "4sni-13c0x-2",
        "outputId": "e8cd5f4a-3918-47b4-9ede-10ffd3decde0"
      },
      "execution_count": 13,
      "outputs": [
        {
          "output_type": "execute_result",
          "data": {
            "text/plain": [
              "Dataset MNIST\n",
              "    Number of datapoints: 60000\n",
              "    Root location: data\n",
              "    Split: Train\n",
              "    StandardTransform\n",
              "Transform: ToTensor()"
            ]
          },
          "metadata": {},
          "execution_count": 13
        }
      ]
    },
    {
      "cell_type": "code",
      "source": [
        "test_data"
      ],
      "metadata": {
        "colab": {
          "base_uri": "https://localhost:8080/"
        },
        "id": "xevqYTaE1EiA",
        "outputId": "9b729970-59d4-48ee-af21-8afe49776de9"
      },
      "execution_count": 12,
      "outputs": [
        {
          "output_type": "execute_result",
          "data": {
            "text/plain": [
              "Dataset MNIST\n",
              "    Number of datapoints: 10000\n",
              "    Root location: data\n",
              "    Split: Test\n",
              "    StandardTransform\n",
              "Transform: ToTensor()"
            ]
          },
          "metadata": {},
          "execution_count": 12
        }
      ]
    },
    {
      "cell_type": "code",
      "source": [
        "from torch.utils.data import DataLoader\n",
        "\n",
        "loaders = {\n",
        "    'train': DataLoader(train_data,\n",
        "                        batch_size = 100,\n",
        "                        shuffle = True,\n",
        "                        num_workers = 1),\n",
        "\n",
        "    'test': DataLoader(test_data,\n",
        "                       batch_size=100,\n",
        "                       shuffle=True,\n",
        "                       num_workers=1),\n",
        "\n",
        "}"
      ],
      "metadata": {
        "id": "QH7mBdcl1dMk"
      },
      "execution_count": 15,
      "outputs": []
    },
    {
      "cell_type": "code",
      "source": [
        "loaders"
      ],
      "metadata": {
        "colab": {
          "base_uri": "https://localhost:8080/"
        },
        "id": "ktCOeC8k2X5y",
        "outputId": "c3376ae3-691e-493c-bded-59cff550ecae"
      },
      "execution_count": 16,
      "outputs": [
        {
          "output_type": "execute_result",
          "data": {
            "text/plain": [
              "{'train': <torch.utils.data.dataloader.DataLoader at 0x7c8a20cbfdf0>,\n",
              " 'test': <torch.utils.data.dataloader.DataLoader at 0x7c8a20cf9810>}"
            ]
          },
          "metadata": {},
          "execution_count": 16
        }
      ]
    },
    {
      "cell_type": "code",
      "source": [
        "import torch.nn as nn\n",
        "import torch.nn.functional as F\n",
        "import torch.optim as optim\n",
        "\n",
        "class CNN(nn.Module):\n",
        "\n",
        "  def __init__(self):\n",
        "    super(CNN,self).__init__()\n",
        "\n",
        "    self.convl = nn.Conv2d(1, 10, kernel_size = 5)\n",
        "    self.conv2 = nn.Conv2d(10, 20, kernel_size = 5)\n",
        "    self.conv2_drop = nn.Dropout2d()\n",
        "    self.fc1 = nn.Linear(320,50)\n",
        "    self.fc2 = nn.Linear(50,10)\n",
        "\n",
        "  def forward(self,x):\n",
        "    x = F.relu(F.max_pool2d(self.convl(x),2))\n",
        "    x = F.relu(F.max_pool2d(self.conv2_drop(self.conv2(x)),2))\n",
        "    x = x.view(-1,320)\n",
        "    x = F.relu(self.fc1(x))\n",
        "    x = F.dropout(x, training=self.training)\n",
        "    x = self.fc2(x)\n",
        "\n",
        "    return F.softmax(x)\n"
      ],
      "metadata": {
        "id": "Cfo3D3pE2cDv"
      },
      "execution_count": 20,
      "outputs": []
    },
    {
      "cell_type": "code",
      "source": [
        "import torch\n",
        "\n",
        "device = torch.device('cuda' if torch.cuda.is_available() else 'cpu')\n",
        "\n",
        "model = CNN().to(device)\n",
        "\n",
        "optimizer = optim.Adam(model.parameters(), lr = 0.001)\n",
        "\n",
        "loss_fn = nn.CrossEntropyLoss()\n",
        "\n",
        "def train(epoch):\n",
        "  model.train()\n",
        "  for batch_idx, (data,target) in enumerate(loaders['train']):\n",
        "    data, target = data.to(device), target.to(device)\n",
        "    optimizer.zero_grad()\n",
        "    output = model(data)\n",
        "    loss = loss_fn(output,target)\n",
        "    loss.backward()\n",
        "    optimizer.step()\n",
        "    if batch_idx % 20 == 0:\n",
        "      print(f\"Train Epoch: {epoch} [{batch_idx * len(data)}/{len(loaders['train'].dataset)} ({100. * batch_idx/len(loaders['train']):.0f}%)]\\t{loss.item():.6f}\")\n",
        "\n",
        "\n",
        "def test():\n",
        "  model.eval()\n",
        "\n",
        "  test_loss = 0\n",
        "  correct = 0\n",
        "\n",
        "  with torch.no_grad():\n",
        "    for data, target in loaders['test']:\n",
        "      data, target = data.to(device), target.to(device)\n",
        "      output = model(data)\n",
        "      test_loss += loss_fn(output, target).item()\n",
        "      pred = output.argmax(dim = 1, keepdim=True)\n",
        "      correct += pred.eq(target.view_as(pred)).sum().item()\n",
        "\n",
        "    test_loss /= len(loaders['test'].dataset)\n",
        "    print(f\"\\nTest set: Average loss: {test_loss:.4f}, Accuracy {correct}/{len(loaders['test'].dataset)} ({100. * correct / len(loaders['test'].dataset):.0f}%\\n)\")"
      ],
      "metadata": {
        "id": "Cx2_rElM3XkY"
      },
      "execution_count": 36,
      "outputs": []
    },
    {
      "cell_type": "code",
      "source": [
        "for epoch in range(1,11):\n",
        "  train(epoch)\n",
        "  test()"
      ],
      "metadata": {
        "colab": {
          "base_uri": "https://localhost:8080/"
        },
        "id": "83Gpu-Yw50Jg",
        "outputId": "b9f189a8-3042-4706-90b0-65fa93897bd5"
      },
      "execution_count": 37,
      "outputs": [
        {
          "output_type": "stream",
          "name": "stderr",
          "text": [
            "<ipython-input-20-7ac16f525da1>:24: UserWarning: Implicit dimension choice for softmax has been deprecated. Change the call to include dim=X as an argument.\n",
            "  return F.softmax(x)\n"
          ]
        },
        {
          "output_type": "stream",
          "name": "stdout",
          "text": [
            "Train Epoch: 1 [0/60000 (0%)]\t2.301709\n",
            "Train Epoch: 1 [2000/60000 (3%)]\t2.290607\n",
            "Train Epoch: 1 [4000/60000 (7%)]\t2.221138\n",
            "Train Epoch: 1 [6000/60000 (10%)]\t1.992828\n",
            "Train Epoch: 1 [8000/60000 (13%)]\t1.907593\n",
            "Train Epoch: 1 [10000/60000 (17%)]\t1.855754\n",
            "Train Epoch: 1 [12000/60000 (20%)]\t1.812263\n",
            "Train Epoch: 1 [14000/60000 (23%)]\t1.776923\n",
            "Train Epoch: 1 [16000/60000 (27%)]\t1.753696\n",
            "Train Epoch: 1 [18000/60000 (30%)]\t1.703114\n",
            "Train Epoch: 1 [20000/60000 (33%)]\t1.646119\n",
            "Train Epoch: 1 [22000/60000 (37%)]\t1.675495\n",
            "Train Epoch: 1 [24000/60000 (40%)]\t1.671963\n",
            "Train Epoch: 1 [26000/60000 (43%)]\t1.636058\n",
            "Train Epoch: 1 [28000/60000 (47%)]\t1.632282\n",
            "Train Epoch: 1 [30000/60000 (50%)]\t1.623774\n",
            "Train Epoch: 1 [32000/60000 (53%)]\t1.673824\n",
            "Train Epoch: 1 [34000/60000 (57%)]\t1.571898\n",
            "Train Epoch: 1 [36000/60000 (60%)]\t1.595473\n",
            "Train Epoch: 1 [38000/60000 (63%)]\t1.606624\n",
            "Train Epoch: 1 [40000/60000 (67%)]\t1.581776\n",
            "Train Epoch: 1 [42000/60000 (70%)]\t1.624266\n",
            "Train Epoch: 1 [44000/60000 (73%)]\t1.598543\n",
            "Train Epoch: 1 [46000/60000 (77%)]\t1.566266\n",
            "Train Epoch: 1 [48000/60000 (80%)]\t1.586801\n",
            "Train Epoch: 1 [50000/60000 (83%)]\t1.631151\n",
            "Train Epoch: 1 [52000/60000 (87%)]\t1.649107\n",
            "Train Epoch: 1 [54000/60000 (90%)]\t1.591891\n",
            "Train Epoch: 1 [56000/60000 (93%)]\t1.615709\n",
            "Train Epoch: 1 [58000/60000 (97%)]\t1.597674\n",
            "\n",
            "Test set: Average loss: 0.0153, Accuracy 9326/10000 (93%\n",
            ")\n",
            "Train Epoch: 2 [0/60000 (0%)]\t1.670631\n",
            "Train Epoch: 2 [2000/60000 (3%)]\t1.596712\n",
            "Train Epoch: 2 [4000/60000 (7%)]\t1.592086\n",
            "Train Epoch: 2 [6000/60000 (10%)]\t1.591988\n",
            "Train Epoch: 2 [8000/60000 (13%)]\t1.574286\n",
            "Train Epoch: 2 [10000/60000 (17%)]\t1.603757\n",
            "Train Epoch: 2 [12000/60000 (20%)]\t1.621942\n",
            "Train Epoch: 2 [14000/60000 (23%)]\t1.608004\n",
            "Train Epoch: 2 [16000/60000 (27%)]\t1.574687\n",
            "Train Epoch: 2 [18000/60000 (30%)]\t1.565792\n",
            "Train Epoch: 2 [20000/60000 (33%)]\t1.626709\n",
            "Train Epoch: 2 [22000/60000 (37%)]\t1.526888\n",
            "Train Epoch: 2 [24000/60000 (40%)]\t1.586997\n",
            "Train Epoch: 2 [26000/60000 (43%)]\t1.543227\n",
            "Train Epoch: 2 [28000/60000 (47%)]\t1.581867\n",
            "Train Epoch: 2 [30000/60000 (50%)]\t1.580700\n",
            "Train Epoch: 2 [32000/60000 (53%)]\t1.547329\n",
            "Train Epoch: 2 [34000/60000 (57%)]\t1.542464\n",
            "Train Epoch: 2 [36000/60000 (60%)]\t1.592711\n",
            "Train Epoch: 2 [38000/60000 (63%)]\t1.565917\n",
            "Train Epoch: 2 [40000/60000 (67%)]\t1.520862\n",
            "Train Epoch: 2 [42000/60000 (70%)]\t1.656698\n",
            "Train Epoch: 2 [44000/60000 (73%)]\t1.601018\n",
            "Train Epoch: 2 [46000/60000 (77%)]\t1.537309\n",
            "Train Epoch: 2 [48000/60000 (80%)]\t1.621239\n",
            "Train Epoch: 2 [50000/60000 (83%)]\t1.567062\n",
            "Train Epoch: 2 [52000/60000 (87%)]\t1.561491\n",
            "Train Epoch: 2 [54000/60000 (90%)]\t1.654292\n",
            "Train Epoch: 2 [56000/60000 (93%)]\t1.549301\n",
            "Train Epoch: 2 [58000/60000 (97%)]\t1.576066\n",
            "\n",
            "Test set: Average loss: 0.0151, Accuracy 9474/10000 (95%\n",
            ")\n",
            "Train Epoch: 3 [0/60000 (0%)]\t1.583467\n",
            "Train Epoch: 3 [2000/60000 (3%)]\t1.593810\n",
            "Train Epoch: 3 [4000/60000 (7%)]\t1.588552\n",
            "Train Epoch: 3 [6000/60000 (10%)]\t1.586369\n",
            "Train Epoch: 3 [8000/60000 (13%)]\t1.590613\n",
            "Train Epoch: 3 [10000/60000 (17%)]\t1.568136\n",
            "Train Epoch: 3 [12000/60000 (20%)]\t1.509652\n",
            "Train Epoch: 3 [14000/60000 (23%)]\t1.565707\n",
            "Train Epoch: 3 [16000/60000 (27%)]\t1.566520\n",
            "Train Epoch: 3 [18000/60000 (30%)]\t1.522867\n",
            "Train Epoch: 3 [20000/60000 (33%)]\t1.579966\n",
            "Train Epoch: 3 [22000/60000 (37%)]\t1.545843\n",
            "Train Epoch: 3 [24000/60000 (40%)]\t1.531378\n",
            "Train Epoch: 3 [26000/60000 (43%)]\t1.547690\n",
            "Train Epoch: 3 [28000/60000 (47%)]\t1.547718\n",
            "Train Epoch: 3 [30000/60000 (50%)]\t1.557452\n",
            "Train Epoch: 3 [32000/60000 (53%)]\t1.669932\n",
            "Train Epoch: 3 [34000/60000 (57%)]\t1.530804\n",
            "Train Epoch: 3 [36000/60000 (60%)]\t1.552419\n",
            "Train Epoch: 3 [38000/60000 (63%)]\t1.570645\n",
            "Train Epoch: 3 [40000/60000 (67%)]\t1.517240\n",
            "Train Epoch: 3 [42000/60000 (70%)]\t1.547413\n",
            "Train Epoch: 3 [44000/60000 (73%)]\t1.549911\n",
            "Train Epoch: 3 [46000/60000 (77%)]\t1.571373\n",
            "Train Epoch: 3 [48000/60000 (80%)]\t1.547098\n",
            "Train Epoch: 3 [50000/60000 (83%)]\t1.508955\n",
            "Train Epoch: 3 [52000/60000 (87%)]\t1.539786\n",
            "Train Epoch: 3 [54000/60000 (90%)]\t1.567150\n",
            "Train Epoch: 3 [56000/60000 (93%)]\t1.572011\n",
            "Train Epoch: 3 [58000/60000 (97%)]\t1.506135\n",
            "\n",
            "Test set: Average loss: 0.0150, Accuracy 9597/10000 (96%\n",
            ")\n",
            "Train Epoch: 4 [0/60000 (0%)]\t1.514987\n",
            "Train Epoch: 4 [2000/60000 (3%)]\t1.573261\n",
            "Train Epoch: 4 [4000/60000 (7%)]\t1.534396\n",
            "Train Epoch: 4 [6000/60000 (10%)]\t1.578104\n",
            "Train Epoch: 4 [8000/60000 (13%)]\t1.550951\n",
            "Train Epoch: 4 [10000/60000 (17%)]\t1.571120\n",
            "Train Epoch: 4 [12000/60000 (20%)]\t1.584849\n",
            "Train Epoch: 4 [14000/60000 (23%)]\t1.548332\n",
            "Train Epoch: 4 [16000/60000 (27%)]\t1.499277\n",
            "Train Epoch: 4 [18000/60000 (30%)]\t1.546633\n",
            "Train Epoch: 4 [20000/60000 (33%)]\t1.539650\n",
            "Train Epoch: 4 [22000/60000 (37%)]\t1.516981\n",
            "Train Epoch: 4 [24000/60000 (40%)]\t1.508409\n",
            "Train Epoch: 4 [26000/60000 (43%)]\t1.552879\n",
            "Train Epoch: 4 [28000/60000 (47%)]\t1.562325\n",
            "Train Epoch: 4 [30000/60000 (50%)]\t1.532678\n",
            "Train Epoch: 4 [32000/60000 (53%)]\t1.632328\n",
            "Train Epoch: 4 [34000/60000 (57%)]\t1.505506\n",
            "Train Epoch: 4 [36000/60000 (60%)]\t1.544605\n",
            "Train Epoch: 4 [38000/60000 (63%)]\t1.553886\n",
            "Train Epoch: 4 [40000/60000 (67%)]\t1.609171\n",
            "Train Epoch: 4 [42000/60000 (70%)]\t1.522280\n",
            "Train Epoch: 4 [44000/60000 (73%)]\t1.539136\n",
            "Train Epoch: 4 [46000/60000 (77%)]\t1.529211\n",
            "Train Epoch: 4 [48000/60000 (80%)]\t1.511238\n",
            "Train Epoch: 4 [50000/60000 (83%)]\t1.547138\n",
            "Train Epoch: 4 [52000/60000 (87%)]\t1.535925\n",
            "Train Epoch: 4 [54000/60000 (90%)]\t1.547776\n",
            "Train Epoch: 4 [56000/60000 (93%)]\t1.584515\n",
            "Train Epoch: 4 [58000/60000 (97%)]\t1.528719\n",
            "\n",
            "Test set: Average loss: 0.0150, Accuracy 9605/10000 (96%\n",
            ")\n",
            "Train Epoch: 5 [0/60000 (0%)]\t1.515404\n",
            "Train Epoch: 5 [2000/60000 (3%)]\t1.593604\n",
            "Train Epoch: 5 [4000/60000 (7%)]\t1.529888\n",
            "Train Epoch: 5 [6000/60000 (10%)]\t1.538764\n",
            "Train Epoch: 5 [8000/60000 (13%)]\t1.553615\n",
            "Train Epoch: 5 [10000/60000 (17%)]\t1.534305\n",
            "Train Epoch: 5 [12000/60000 (20%)]\t1.522899\n",
            "Train Epoch: 5 [14000/60000 (23%)]\t1.494387\n",
            "Train Epoch: 5 [16000/60000 (27%)]\t1.545735\n",
            "Train Epoch: 5 [18000/60000 (30%)]\t1.533304\n",
            "Train Epoch: 5 [20000/60000 (33%)]\t1.520531\n",
            "Train Epoch: 5 [22000/60000 (37%)]\t1.522396\n",
            "Train Epoch: 5 [24000/60000 (40%)]\t1.562591\n",
            "Train Epoch: 5 [26000/60000 (43%)]\t1.498815\n",
            "Train Epoch: 5 [28000/60000 (47%)]\t1.518509\n",
            "Train Epoch: 5 [30000/60000 (50%)]\t1.540462\n",
            "Train Epoch: 5 [32000/60000 (53%)]\t1.568667\n",
            "Train Epoch: 5 [34000/60000 (57%)]\t1.515008\n",
            "Train Epoch: 5 [36000/60000 (60%)]\t1.520338\n",
            "Train Epoch: 5 [38000/60000 (63%)]\t1.501382\n",
            "Train Epoch: 5 [40000/60000 (67%)]\t1.537076\n",
            "Train Epoch: 5 [42000/60000 (70%)]\t1.530514\n",
            "Train Epoch: 5 [44000/60000 (73%)]\t1.507357\n",
            "Train Epoch: 5 [46000/60000 (77%)]\t1.532028\n",
            "Train Epoch: 5 [48000/60000 (80%)]\t1.567631\n",
            "Train Epoch: 5 [50000/60000 (83%)]\t1.566721\n",
            "Train Epoch: 5 [52000/60000 (87%)]\t1.554324\n",
            "Train Epoch: 5 [54000/60000 (90%)]\t1.509294\n",
            "Train Epoch: 5 [56000/60000 (93%)]\t1.539555\n",
            "Train Epoch: 5 [58000/60000 (97%)]\t1.500858\n",
            "\n",
            "Test set: Average loss: 0.0150, Accuracy 9658/10000 (97%\n",
            ")\n",
            "Train Epoch: 6 [0/60000 (0%)]\t1.542450\n",
            "Train Epoch: 6 [2000/60000 (3%)]\t1.501684\n",
            "Train Epoch: 6 [4000/60000 (7%)]\t1.573820\n",
            "Train Epoch: 6 [6000/60000 (10%)]\t1.512873\n",
            "Train Epoch: 6 [8000/60000 (13%)]\t1.483652\n",
            "Train Epoch: 6 [10000/60000 (17%)]\t1.600554\n",
            "Train Epoch: 6 [12000/60000 (20%)]\t1.588305\n",
            "Train Epoch: 6 [14000/60000 (23%)]\t1.541545\n",
            "Train Epoch: 6 [16000/60000 (27%)]\t1.528069\n",
            "Train Epoch: 6 [18000/60000 (30%)]\t1.561595\n",
            "Train Epoch: 6 [20000/60000 (33%)]\t1.546384\n",
            "Train Epoch: 6 [22000/60000 (37%)]\t1.536065\n",
            "Train Epoch: 6 [24000/60000 (40%)]\t1.522776\n",
            "Train Epoch: 6 [26000/60000 (43%)]\t1.542427\n",
            "Train Epoch: 6 [28000/60000 (47%)]\t1.502562\n",
            "Train Epoch: 6 [30000/60000 (50%)]\t1.540396\n",
            "Train Epoch: 6 [32000/60000 (53%)]\t1.531473\n",
            "Train Epoch: 6 [34000/60000 (57%)]\t1.572061\n",
            "Train Epoch: 6 [36000/60000 (60%)]\t1.537511\n",
            "Train Epoch: 6 [38000/60000 (63%)]\t1.585411\n",
            "Train Epoch: 6 [40000/60000 (67%)]\t1.565362\n",
            "Train Epoch: 6 [42000/60000 (70%)]\t1.540319\n",
            "Train Epoch: 6 [44000/60000 (73%)]\t1.585000\n",
            "Train Epoch: 6 [46000/60000 (77%)]\t1.513281\n",
            "Train Epoch: 6 [48000/60000 (80%)]\t1.521071\n",
            "Train Epoch: 6 [50000/60000 (83%)]\t1.524479\n",
            "Train Epoch: 6 [52000/60000 (87%)]\t1.534879\n",
            "Train Epoch: 6 [54000/60000 (90%)]\t1.528101\n",
            "Train Epoch: 6 [56000/60000 (93%)]\t1.529889\n",
            "Train Epoch: 6 [58000/60000 (97%)]\t1.524013\n",
            "\n",
            "Test set: Average loss: 0.0149, Accuracy 9712/10000 (97%\n",
            ")\n",
            "Train Epoch: 7 [0/60000 (0%)]\t1.545880\n",
            "Train Epoch: 7 [2000/60000 (3%)]\t1.516318\n",
            "Train Epoch: 7 [4000/60000 (7%)]\t1.526673\n",
            "Train Epoch: 7 [6000/60000 (10%)]\t1.504323\n",
            "Train Epoch: 7 [8000/60000 (13%)]\t1.496926\n",
            "Train Epoch: 7 [10000/60000 (17%)]\t1.587946\n",
            "Train Epoch: 7 [12000/60000 (20%)]\t1.512535\n",
            "Train Epoch: 7 [14000/60000 (23%)]\t1.510306\n",
            "Train Epoch: 7 [16000/60000 (27%)]\t1.550164\n",
            "Train Epoch: 7 [18000/60000 (30%)]\t1.486787\n",
            "Train Epoch: 7 [20000/60000 (33%)]\t1.538788\n",
            "Train Epoch: 7 [22000/60000 (37%)]\t1.557105\n",
            "Train Epoch: 7 [24000/60000 (40%)]\t1.523515\n",
            "Train Epoch: 7 [26000/60000 (43%)]\t1.533574\n",
            "Train Epoch: 7 [28000/60000 (47%)]\t1.503955\n",
            "Train Epoch: 7 [30000/60000 (50%)]\t1.536377\n",
            "Train Epoch: 7 [32000/60000 (53%)]\t1.517721\n",
            "Train Epoch: 7 [34000/60000 (57%)]\t1.544787\n",
            "Train Epoch: 7 [36000/60000 (60%)]\t1.521791\n",
            "Train Epoch: 7 [38000/60000 (63%)]\t1.511797\n",
            "Train Epoch: 7 [40000/60000 (67%)]\t1.545945\n",
            "Train Epoch: 7 [42000/60000 (70%)]\t1.474000\n",
            "Train Epoch: 7 [44000/60000 (73%)]\t1.568063\n",
            "Train Epoch: 7 [46000/60000 (77%)]\t1.522467\n",
            "Train Epoch: 7 [48000/60000 (80%)]\t1.498584\n",
            "Train Epoch: 7 [50000/60000 (83%)]\t1.531600\n",
            "Train Epoch: 7 [52000/60000 (87%)]\t1.550522\n",
            "Train Epoch: 7 [54000/60000 (90%)]\t1.499408\n",
            "Train Epoch: 7 [56000/60000 (93%)]\t1.562288\n",
            "Train Epoch: 7 [58000/60000 (97%)]\t1.504122\n",
            "\n",
            "Test set: Average loss: 0.0149, Accuracy 9715/10000 (97%\n",
            ")\n",
            "Train Epoch: 8 [0/60000 (0%)]\t1.576757\n",
            "Train Epoch: 8 [2000/60000 (3%)]\t1.506192\n",
            "Train Epoch: 8 [4000/60000 (7%)]\t1.511983\n",
            "Train Epoch: 8 [6000/60000 (10%)]\t1.570466\n",
            "Train Epoch: 8 [8000/60000 (13%)]\t1.528785\n",
            "Train Epoch: 8 [10000/60000 (17%)]\t1.540944\n",
            "Train Epoch: 8 [12000/60000 (20%)]\t1.489664\n",
            "Train Epoch: 8 [14000/60000 (23%)]\t1.508026\n",
            "Train Epoch: 8 [16000/60000 (27%)]\t1.497815\n",
            "Train Epoch: 8 [18000/60000 (30%)]\t1.484384\n",
            "Train Epoch: 8 [20000/60000 (33%)]\t1.531821\n",
            "Train Epoch: 8 [22000/60000 (37%)]\t1.504964\n",
            "Train Epoch: 8 [24000/60000 (40%)]\t1.514649\n",
            "Train Epoch: 8 [26000/60000 (43%)]\t1.536793\n",
            "Train Epoch: 8 [28000/60000 (47%)]\t1.504525\n",
            "Train Epoch: 8 [30000/60000 (50%)]\t1.537415\n",
            "Train Epoch: 8 [32000/60000 (53%)]\t1.549383\n",
            "Train Epoch: 8 [34000/60000 (57%)]\t1.574302\n",
            "Train Epoch: 8 [36000/60000 (60%)]\t1.500263\n",
            "Train Epoch: 8 [38000/60000 (63%)]\t1.533278\n",
            "Train Epoch: 8 [40000/60000 (67%)]\t1.531005\n",
            "Train Epoch: 8 [42000/60000 (70%)]\t1.582832\n",
            "Train Epoch: 8 [44000/60000 (73%)]\t1.567175\n",
            "Train Epoch: 8 [46000/60000 (77%)]\t1.545566\n",
            "Train Epoch: 8 [48000/60000 (80%)]\t1.574399\n",
            "Train Epoch: 8 [50000/60000 (83%)]\t1.567590\n",
            "Train Epoch: 8 [52000/60000 (87%)]\t1.541571\n",
            "Train Epoch: 8 [54000/60000 (90%)]\t1.551864\n",
            "Train Epoch: 8 [56000/60000 (93%)]\t1.512693\n",
            "Train Epoch: 8 [58000/60000 (97%)]\t1.548681\n",
            "\n",
            "Test set: Average loss: 0.0149, Accuracy 9721/10000 (97%\n",
            ")\n",
            "Train Epoch: 9 [0/60000 (0%)]\t1.525536\n",
            "Train Epoch: 9 [2000/60000 (3%)]\t1.546067\n",
            "Train Epoch: 9 [4000/60000 (7%)]\t1.574870\n",
            "Train Epoch: 9 [6000/60000 (10%)]\t1.507310\n",
            "Train Epoch: 9 [8000/60000 (13%)]\t1.534799\n",
            "Train Epoch: 9 [10000/60000 (17%)]\t1.496069\n",
            "Train Epoch: 9 [12000/60000 (20%)]\t1.503740\n",
            "Train Epoch: 9 [14000/60000 (23%)]\t1.535054\n",
            "Train Epoch: 9 [16000/60000 (27%)]\t1.558006\n",
            "Train Epoch: 9 [18000/60000 (30%)]\t1.544482\n",
            "Train Epoch: 9 [20000/60000 (33%)]\t1.569434\n",
            "Train Epoch: 9 [22000/60000 (37%)]\t1.546502\n",
            "Train Epoch: 9 [24000/60000 (40%)]\t1.516087\n",
            "Train Epoch: 9 [26000/60000 (43%)]\t1.531641\n",
            "Train Epoch: 9 [28000/60000 (47%)]\t1.526364\n",
            "Train Epoch: 9 [30000/60000 (50%)]\t1.501388\n",
            "Train Epoch: 9 [32000/60000 (53%)]\t1.581765\n",
            "Train Epoch: 9 [34000/60000 (57%)]\t1.541445\n",
            "Train Epoch: 9 [36000/60000 (60%)]\t1.517411\n",
            "Train Epoch: 9 [38000/60000 (63%)]\t1.509873\n",
            "Train Epoch: 9 [40000/60000 (67%)]\t1.501467\n",
            "Train Epoch: 9 [42000/60000 (70%)]\t1.490990\n",
            "Train Epoch: 9 [44000/60000 (73%)]\t1.524951\n",
            "Train Epoch: 9 [46000/60000 (77%)]\t1.538158\n",
            "Train Epoch: 9 [48000/60000 (80%)]\t1.499285\n",
            "Train Epoch: 9 [50000/60000 (83%)]\t1.568551\n",
            "Train Epoch: 9 [52000/60000 (87%)]\t1.535947\n",
            "Train Epoch: 9 [54000/60000 (90%)]\t1.500704\n",
            "Train Epoch: 9 [56000/60000 (93%)]\t1.507764\n",
            "Train Epoch: 9 [58000/60000 (97%)]\t1.505717\n",
            "\n",
            "Test set: Average loss: 0.0149, Accuracy 9745/10000 (97%\n",
            ")\n",
            "Train Epoch: 10 [0/60000 (0%)]\t1.546275\n",
            "Train Epoch: 10 [2000/60000 (3%)]\t1.533491\n",
            "Train Epoch: 10 [4000/60000 (7%)]\t1.558102\n",
            "Train Epoch: 10 [6000/60000 (10%)]\t1.515196\n",
            "Train Epoch: 10 [8000/60000 (13%)]\t1.516343\n",
            "Train Epoch: 10 [10000/60000 (17%)]\t1.511203\n",
            "Train Epoch: 10 [12000/60000 (20%)]\t1.546558\n",
            "Train Epoch: 10 [14000/60000 (23%)]\t1.532005\n",
            "Train Epoch: 10 [16000/60000 (27%)]\t1.510717\n",
            "Train Epoch: 10 [18000/60000 (30%)]\t1.523111\n",
            "Train Epoch: 10 [20000/60000 (33%)]\t1.505701\n",
            "Train Epoch: 10 [22000/60000 (37%)]\t1.566785\n",
            "Train Epoch: 10 [24000/60000 (40%)]\t1.558675\n",
            "Train Epoch: 10 [26000/60000 (43%)]\t1.532184\n",
            "Train Epoch: 10 [28000/60000 (47%)]\t1.534040\n",
            "Train Epoch: 10 [30000/60000 (50%)]\t1.522033\n",
            "Train Epoch: 10 [32000/60000 (53%)]\t1.500057\n",
            "Train Epoch: 10 [34000/60000 (57%)]\t1.519135\n",
            "Train Epoch: 10 [36000/60000 (60%)]\t1.571190\n",
            "Train Epoch: 10 [38000/60000 (63%)]\t1.511428\n",
            "Train Epoch: 10 [40000/60000 (67%)]\t1.508741\n",
            "Train Epoch: 10 [42000/60000 (70%)]\t1.501948\n",
            "Train Epoch: 10 [44000/60000 (73%)]\t1.522729\n",
            "Train Epoch: 10 [46000/60000 (77%)]\t1.515685\n",
            "Train Epoch: 10 [48000/60000 (80%)]\t1.512694\n",
            "Train Epoch: 10 [50000/60000 (83%)]\t1.509885\n",
            "Train Epoch: 10 [52000/60000 (87%)]\t1.518697\n",
            "Train Epoch: 10 [54000/60000 (90%)]\t1.505395\n",
            "Train Epoch: 10 [56000/60000 (93%)]\t1.505803\n",
            "Train Epoch: 10 [58000/60000 (97%)]\t1.501685\n",
            "\n",
            "Test set: Average loss: 0.0149, Accuracy 9752/10000 (98%\n",
            ")\n"
          ]
        }
      ]
    },
    {
      "cell_type": "code",
      "source": [
        "device"
      ],
      "metadata": {
        "colab": {
          "base_uri": "https://localhost:8080/"
        },
        "id": "O_Tmr8-X-VSQ",
        "outputId": "7827964e-14d4-4d37-eda7-148666f0dd4d"
      },
      "execution_count": 38,
      "outputs": [
        {
          "output_type": "execute_result",
          "data": {
            "text/plain": [
              "device(type='cpu')"
            ]
          },
          "metadata": {},
          "execution_count": 38
        }
      ]
    },
    {
      "cell_type": "code",
      "source": [
        "import matplotlib.pyplot as plt\n",
        "\n",
        "model.eval()\n",
        "\n",
        "data, target = test_data[3]\n",
        "\n",
        "data = data.unsqueeze(0).to(device)\n",
        "\n",
        "output = model(data)\n",
        "\n",
        "prediction = output.argmax(dim=1, keepdim = True)\n",
        "\n",
        "print(f'Prediction: {prediction}')\n",
        "\n",
        "image = data.squeeze(0).squeeze(0).cpu().numpy()\n",
        "\n",
        "plt.imshow(image, cmap = 'gray')\n",
        "\n",
        "plt.show()"
      ],
      "metadata": {
        "colab": {
          "base_uri": "https://localhost:8080/",
          "height": 505
        },
        "id": "CGmqtr5bDFLx",
        "outputId": "946d3cb2-804b-4239-e163-8b5a7a756b7c"
      },
      "execution_count": 44,
      "outputs": [
        {
          "output_type": "stream",
          "name": "stderr",
          "text": [
            "<ipython-input-20-7ac16f525da1>:24: UserWarning: Implicit dimension choice for softmax has been deprecated. Change the call to include dim=X as an argument.\n",
            "  return F.softmax(x)\n"
          ]
        },
        {
          "output_type": "stream",
          "name": "stdout",
          "text": [
            "Prediction: tensor([[0]])\n"
          ]
        },
        {
          "output_type": "display_data",
          "data": {
            "text/plain": [
              "<Figure size 640x480 with 1 Axes>"
            ],
            "image/png": "[encoded data removed]"
          },
          "metadata": {}
        }
      ]
    },
    {
      "cell_type": "code",
      "source": [],
      "metadata": {
        "id": "6JOlT7zzDLc6"
      },
      "execution_count": null,
      "outputs": []
    }
  ]
}